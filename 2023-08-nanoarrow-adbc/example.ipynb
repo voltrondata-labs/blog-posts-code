{
 "cells": [
  {
   "cell_type": "code",
   "execution_count": 2,
   "metadata": {},
   "outputs": [
    {
     "data": {
      "text/plain": [
       "pyarrow.Table\n",
       "col1: string\n",
       "col2: string\n",
       "col3: string\n",
       "----\n",
       "col1: [[\"val1\"]]\n",
       "col2: [[\"val2\"]]\n",
       "col3: [[\"val3\"]]"
      ]
     },
     "execution_count": 2,
     "metadata": {},
     "output_type": "execute_result"
    }
   ],
   "source": [
    "import adbc_driver_manager\n",
    "import pyarrow as pa\n",
    "\n",
    "db = adbc_driver_manager.AdbcDatabase(\n",
    "    driver=\"build/libadbc_simple_csv_driver.dylib\",\n",
    "    entrypoint=\"SimpleCsvDriverInit\"\n",
    ")\n",
    "\n",
    "conn = adbc_driver_manager.AdbcConnection(db)\n",
    "stmt = adbc_driver_manager.AdbcStatement(conn)\n",
    "stmt.set_sql_query(\"test.csv\")\n",
    "array_stream, rows_affected = stmt.execute_query()\n",
    "reader = pa.RecordBatchReader._import_from_c(array_stream.address)\n",
    "reader.read_all()"
   ]
  }
 ],
 "metadata": {
  "kernelspec": {
   "display_name": ".venv",
   "language": "python",
   "name": "python3"
  },
  "language_info": {
   "codemirror_mode": {
    "name": "ipython",
    "version": 3
   },
   "file_extension": ".py",
   "mimetype": "text/x-python",
   "name": "python",
   "nbconvert_exporter": "python",
   "pygments_lexer": "ipython3",
   "version": "3.9.6"
  },
  "orig_nbformat": 4
 },
 "nbformat": 4,
 "nbformat_minor": 2
}
