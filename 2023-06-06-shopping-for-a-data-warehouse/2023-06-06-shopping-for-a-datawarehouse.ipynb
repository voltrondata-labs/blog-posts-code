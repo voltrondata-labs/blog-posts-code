{
 "cells": [
  {
   "cell_type": "markdown",
   "id": "13be95d6",
   "metadata": {},
   "source": [
    "## Imports"
   ]
  },
  {
   "cell_type": "code",
   "execution_count": 2,
   "id": "33199a29",
   "metadata": {},
   "outputs": [],
   "source": [
    "import ibis\n",
    "from ibis import _\n",
    "ibis.options.interactive = True\n",
    "import ibis.selectors as s\n",
    "import os"
   ]
  },
  {
   "cell_type": "markdown",
   "id": "565c31d4",
   "metadata": {},
   "source": [
    "## Functions to run the TPC-H queries"
   ]
  },
  {
   "cell_type": "code",
   "execution_count": 3,
   "id": "c6c2b60e",
   "metadata": {},
   "outputs": [],
   "source": [
    "def tpc_h01(con):\n",
    "    \"\"\"    \n",
    "    This query reports the amount of business that was billed, shipped, and returned.\n",
    "    \n",
    "    The Pricing Summary Report Query provides a summary pricing report for all lineitems\n",
    "    shipped as of a given date. The date is within 60 - 120 days of the greatest ship date\n",
    "    contained in the database. The query lists totals for extended price, discounted extended\n",
    "    price, discounted extended price plus tax, average quantity, average extended\n",
    "    price, and average discount. These aggregates are grouped by RETURNFLAG and LINESTATUS,\n",
    "    and listed in ascending order of RETURNFLAG and LINESTATUS. A count of the number of\n",
    "    lineitems in each group is included.\n",
    "    \"\"\"\n",
    "    lineitem = con.table(\"lineitem\")\n",
    "    q01 = (\n",
    "        lineitem\n",
    "        .filter(_.l_shipdate <= (ibis.date('1998-12-01') - ibis.interval(days=90)))\n",
    "        .aggregate(\n",
    "            by=[_.l_returnflag, _.l_linestatus],\n",
    "            sum_qty=_.l_quantity.sum(),\n",
    "            sum_base_price=_.l_extendedprice.sum(),\n",
    "            sum_disc_price=(_.l_extendedprice * (1 - _.l_discount)).sum(),\n",
    "            sum_charge=(_.l_extendedprice * (1 - _.l_discount) * (1 + _.l_tax)).sum(),\n",
    "            avg_qty=_.l_quantity.mean(),\n",
    "            avg_price=_.l_extendedprice.mean(),\n",
    "            avg_disc=_.l_discount.mean(),\n",
    "            count_order=_.count()\n",
    "        )\n",
    "        .order_by([_.l_returnflag, _.l_linestatus])\n",
    "    )\n",
    "    return q01\n",
    "\n",
    "\n",
    "def tpc_h10(con):\n",
    "    \"\"\"\n",
    "    The query identifies customers who might be having problems with the parts that are\n",
    "    shipped to them.\n",
    "    \n",
    "    The Returned Item Reporting Query finds the top 20 customers, in terms of their effect\n",
    "    on lost revenue for a given quarter, who have returned parts. The query considers only\n",
    "    parts that were ordered in the specified quarter. The query lists the customer's name,\n",
    "    address, nation, phone number, account balance, comment information and revenue lost.\n",
    "    The customers are listed in descending order of lost revenue. Revenue lost is defined\n",
    "    as sum(l_extendedprice*(1-l_discount)) for all qualifying lineitems.\n",
    "    \"\"\"\n",
    "    lineitem = con.table('lineitem')\n",
    "    orders = con.table('orders')\n",
    "    customer = con.table(\"customer\")\n",
    "    nation = con.table(\"nation\")\n",
    "    \n",
    "    q = (\n",
    "        customer\n",
    "            .join(orders, orders.o_custkey == customer.c_custkey)\n",
    "            .join(lineitem, lineitem.l_orderkey == orders.o_orderkey)\n",
    "            .join(nation, customer.c_nationkey == nation.n_nationkey)\n",
    "    )\n",
    "\n",
    "    q = q.filter(\n",
    "        [\n",
    "            (q.o_orderdate >= ibis.date(\"1993-10-01\")) & (q.o_orderdate < (ibis.date(\"1993-10-01\") + ibis.interval(months=3))),\n",
    "            q.l_returnflag == \"R\",\n",
    "        ]\n",
    "    )\n",
    "\n",
    "    gq = q.group_by(\n",
    "        [\n",
    "            q.c_custkey,\n",
    "            q.c_name,\n",
    "            q.c_acctbal,\n",
    "            q.c_phone,\n",
    "            q.n_name,\n",
    "            q.c_address,\n",
    "            q.c_comment,\n",
    "        ]\n",
    "    )\n",
    "    q = gq.aggregate(revenue=(q.l_extendedprice * (1 - q.l_discount)).sum())\n",
    "\n",
    "    q = q.order_by(ibis.desc(q.revenue))\n",
    "    return q.limit(20)\n"
   ]
  },
  {
   "cell_type": "markdown",
   "id": "45810964",
   "metadata": {},
   "source": [
    "## Postgres"
   ]
  },
  {
   "cell_type": "code",
   "execution_count": 4,
   "id": "99ae8ebc",
   "metadata": {},
   "outputs": [],
   "source": [
    "pg_user = os.environ.get(\"PG_USER\")\n",
    "pg_pwd = os.environ.get(\"PG_PWD\")\n",
    "\n",
    "con_pg = ibis.postgres.connect(database='tpc-h-10gb', host='localhost', user=pg_user, password=pg_pwd)"
   ]
  },
  {
   "cell_type": "markdown",
   "id": "625ccf04",
   "metadata": {},
   "source": [
    "### Example TPC-H query results"
   ]
  },
  {
   "cell_type": "code",
   "execution_count": 5,
   "id": "d1fd1414",
   "metadata": {},
   "outputs": [
    {
     "data": {
      "text/html": [
       "<pre style=\"white-space:pre;overflow-x:auto;line-height:normal;font-family:Menlo,'DejaVu Sans Mono',consolas,'Courier New',monospace\">┏━━━━━━━━━━━━━━┳━━━━━━━━━━━━━━┳━━━━━━━━━━━━━━━━┳━━━━━━━━━━━━━━━━━━┳━━━━━━━━━━━━━━━━━━━━┳━━━━━━━━━━━━━━━━━━━━━━┳━━━━━━━━━━━━━━━━┳━━━━━━━━━━━━━━━━┳━━━━━━━━━━━━━━━━┳━━━━━━━━━━━━━┓\n",
       "┃<span style=\"font-weight: bold\"> l_returnflag </span>┃<span style=\"font-weight: bold\"> l_linestatus </span>┃<span style=\"font-weight: bold\"> sum_qty        </span>┃<span style=\"font-weight: bold\"> sum_base_price   </span>┃<span style=\"font-weight: bold\"> sum_disc_price     </span>┃<span style=\"font-weight: bold\"> sum_charge           </span>┃<span style=\"font-weight: bold\"> avg_qty        </span>┃<span style=\"font-weight: bold\"> avg_price      </span>┃<span style=\"font-weight: bold\"> avg_disc       </span>┃<span style=\"font-weight: bold\"> count_order </span>┃\n",
       "┡━━━━━━━━━━━━━━╇━━━━━━━━━━━━━━╇━━━━━━━━━━━━━━━━╇━━━━━━━━━━━━━━━━━━╇━━━━━━━━━━━━━━━━━━━━╇━━━━━━━━━━━━━━━━━━━━━━╇━━━━━━━━━━━━━━━━╇━━━━━━━━━━━━━━━━╇━━━━━━━━━━━━━━━━╇━━━━━━━━━━━━━┩\n",
       "│ <span style=\"color: #7f7f7f; text-decoration-color: #7f7f7f\">string</span>       │ <span style=\"color: #7f7f7f; text-decoration-color: #7f7f7f\">string</span>       │ <span style=\"color: #7f7f7f; text-decoration-color: #7f7f7f\">decimal(38, 2)</span> │ <span style=\"color: #7f7f7f; text-decoration-color: #7f7f7f\">decimal(38, 2)</span>   │ <span style=\"color: #7f7f7f; text-decoration-color: #7f7f7f\">decimal(38, 4)</span>     │ <span style=\"color: #7f7f7f; text-decoration-color: #7f7f7f\">decimal(38, 6)</span>       │ <span style=\"color: #7f7f7f; text-decoration-color: #7f7f7f\">decimal(15, 2)</span> │ <span style=\"color: #7f7f7f; text-decoration-color: #7f7f7f\">decimal(15, 2)</span> │ <span style=\"color: #7f7f7f; text-decoration-color: #7f7f7f\">decimal(15, 2)</span> │ <span style=\"color: #7f7f7f; text-decoration-color: #7f7f7f\">int64</span>       │\n",
       "├──────────────┼──────────────┼────────────────┼──────────────────┼────────────────────┼──────────────────────┼────────────────┼────────────────┼────────────────┼─────────────┤\n",
       "│ <span style=\"color: #008000; text-decoration-color: #008000\">A           </span> │ <span style=\"color: #008000; text-decoration-color: #008000\">F           </span> │   <span style=\"color: #008080; text-decoration-color: #008080; font-weight: bold\">377518399.00</span> │  <span style=\"color: #008080; text-decoration-color: #008080; font-weight: bold\">566065727797.25</span> │  <span style=\"color: #008080; text-decoration-color: #008080; font-weight: bold\">537759104278.0656</span> │  <span style=\"color: #008080; text-decoration-color: #008080; font-weight: bold\">559276670892.116821</span> │          <span style=\"color: #008080; text-decoration-color: #008080; font-weight: bold\">25.50</span> │       <span style=\"color: #008080; text-decoration-color: #008080; font-weight: bold\">38237.15</span> │           <span style=\"color: #008080; text-decoration-color: #008080; font-weight: bold\">0.05</span> │    <span style=\"color: #008080; text-decoration-color: #008080; font-weight: bold\">14804077</span> │\n",
       "│ <span style=\"color: #008000; text-decoration-color: #008000\">N           </span> │ <span style=\"color: #008000; text-decoration-color: #008000\">F           </span> │     <span style=\"color: #008080; text-decoration-color: #008080; font-weight: bold\">9851614.00</span> │   <span style=\"color: #008080; text-decoration-color: #008080; font-weight: bold\">14767438399.17</span> │   <span style=\"color: #008080; text-decoration-color: #008080; font-weight: bold\">14028805792.2114</span> │   <span style=\"color: #008080; text-decoration-color: #008080; font-weight: bold\">14590490998.366737</span> │          <span style=\"color: #008080; text-decoration-color: #008080; font-weight: bold\">25.52</span> │       <span style=\"color: #008080; text-decoration-color: #008080; font-weight: bold\">38257.81</span> │           <span style=\"color: #008080; text-decoration-color: #008080; font-weight: bold\">0.05</span> │      <span style=\"color: #008080; text-decoration-color: #008080; font-weight: bold\">385998</span> │\n",
       "│ <span style=\"color: #008000; text-decoration-color: #008000\">N           </span> │ <span style=\"color: #008000; text-decoration-color: #008000\">O           </span> │   <span style=\"color: #008080; text-decoration-color: #008080; font-weight: bold\">743124873.00</span> │ <span style=\"color: #008080; text-decoration-color: #008080; font-weight: bold\">1114302286901.88</span> │ <span style=\"color: #008080; text-decoration-color: #008080; font-weight: bold\">1058580922144.9637</span> │ <span style=\"color: #008080; text-decoration-color: #008080; font-weight: bold\">1100937000170.591797</span> │          <span style=\"color: #008080; text-decoration-color: #008080; font-weight: bold\">25.50</span> │       <span style=\"color: #008080; text-decoration-color: #008080; font-weight: bold\">38233.90</span> │           <span style=\"color: #008080; text-decoration-color: #008080; font-weight: bold\">0.05</span> │    <span style=\"color: #008080; text-decoration-color: #008080; font-weight: bold\">29144351</span> │\n",
       "│ <span style=\"color: #008000; text-decoration-color: #008000\">R           </span> │ <span style=\"color: #008000; text-decoration-color: #008000\">F           </span> │   <span style=\"color: #008080; text-decoration-color: #008080; font-weight: bold\">377732830.00</span> │  <span style=\"color: #008080; text-decoration-color: #008080; font-weight: bold\">566431054976.00</span> │  <span style=\"color: #008080; text-decoration-color: #008080; font-weight: bold\">538110922664.7677</span> │  <span style=\"color: #008080; text-decoration-color: #008080; font-weight: bold\">559634780885.086304</span> │          <span style=\"color: #008080; text-decoration-color: #008080; font-weight: bold\">25.51</span> │       <span style=\"color: #008080; text-decoration-color: #008080; font-weight: bold\">38251.22</span> │           <span style=\"color: #008080; text-decoration-color: #008080; font-weight: bold\">0.05</span> │    <span style=\"color: #008080; text-decoration-color: #008080; font-weight: bold\">14808183</span> │\n",
       "└──────────────┴──────────────┴────────────────┴──────────────────┴────────────────────┴──────────────────────┴────────────────┴────────────────┴────────────────┴─────────────┘\n",
       "</pre>\n"
      ],
      "text/plain": [
       "┏━━━━━━━━━━━━━━┳━━━━━━━━━━━━━━┳━━━━━━━━━━━━━━━━┳━━━━━━━━━━━━━━━━━━┳━━━━━━━━━━━━━━━━━━━━┳━━━━━━━━━━━━━━━━━━━━━━┳━━━━━━━━━━━━━━━━┳━━━━━━━━━━━━━━━━┳━━━━━━━━━━━━━━━━┳━━━━━━━━━━━━━┓\n",
       "┃\u001b[1m \u001b[0m\u001b[1ml_returnflag\u001b[0m\u001b[1m \u001b[0m┃\u001b[1m \u001b[0m\u001b[1ml_linestatus\u001b[0m\u001b[1m \u001b[0m┃\u001b[1m \u001b[0m\u001b[1msum_qty\u001b[0m\u001b[1m       \u001b[0m\u001b[1m \u001b[0m┃\u001b[1m \u001b[0m\u001b[1msum_base_price\u001b[0m\u001b[1m  \u001b[0m\u001b[1m \u001b[0m┃\u001b[1m \u001b[0m\u001b[1msum_disc_price\u001b[0m\u001b[1m    \u001b[0m\u001b[1m \u001b[0m┃\u001b[1m \u001b[0m\u001b[1msum_charge\u001b[0m\u001b[1m          \u001b[0m\u001b[1m \u001b[0m┃\u001b[1m \u001b[0m\u001b[1mavg_qty\u001b[0m\u001b[1m       \u001b[0m\u001b[1m \u001b[0m┃\u001b[1m \u001b[0m\u001b[1mavg_price\u001b[0m\u001b[1m     \u001b[0m\u001b[1m \u001b[0m┃\u001b[1m \u001b[0m\u001b[1mavg_disc\u001b[0m\u001b[1m      \u001b[0m\u001b[1m \u001b[0m┃\u001b[1m \u001b[0m\u001b[1mcount_order\u001b[0m\u001b[1m \u001b[0m┃\n",
       "┡━━━━━━━━━━━━━━╇━━━━━━━━━━━━━━╇━━━━━━━━━━━━━━━━╇━━━━━━━━━━━━━━━━━━╇━━━━━━━━━━━━━━━━━━━━╇━━━━━━━━━━━━━━━━━━━━━━╇━━━━━━━━━━━━━━━━╇━━━━━━━━━━━━━━━━╇━━━━━━━━━━━━━━━━╇━━━━━━━━━━━━━┩\n",
       "│ \u001b[2mstring\u001b[0m       │ \u001b[2mstring\u001b[0m       │ \u001b[2mdecimal(38, 2)\u001b[0m │ \u001b[2mdecimal(38, 2)\u001b[0m   │ \u001b[2mdecimal(38, 4)\u001b[0m     │ \u001b[2mdecimal(38, 6)\u001b[0m       │ \u001b[2mdecimal(15, 2)\u001b[0m │ \u001b[2mdecimal(15, 2)\u001b[0m │ \u001b[2mdecimal(15, 2)\u001b[0m │ \u001b[2mint64\u001b[0m       │\n",
       "├──────────────┼──────────────┼────────────────┼──────────────────┼────────────────────┼──────────────────────┼────────────────┼────────────────┼────────────────┼─────────────┤\n",
       "│ \u001b[32mA           \u001b[0m │ \u001b[32mF           \u001b[0m │   \u001b[1;36m377518399.00\u001b[0m │  \u001b[1;36m566065727797.25\u001b[0m │  \u001b[1;36m537759104278.0656\u001b[0m │  \u001b[1;36m559276670892.116821\u001b[0m │          \u001b[1;36m25.50\u001b[0m │       \u001b[1;36m38237.15\u001b[0m │           \u001b[1;36m0.05\u001b[0m │    \u001b[1;36m14804077\u001b[0m │\n",
       "│ \u001b[32mN           \u001b[0m │ \u001b[32mF           \u001b[0m │     \u001b[1;36m9851614.00\u001b[0m │   \u001b[1;36m14767438399.17\u001b[0m │   \u001b[1;36m14028805792.2114\u001b[0m │   \u001b[1;36m14590490998.366737\u001b[0m │          \u001b[1;36m25.52\u001b[0m │       \u001b[1;36m38257.81\u001b[0m │           \u001b[1;36m0.05\u001b[0m │      \u001b[1;36m385998\u001b[0m │\n",
       "│ \u001b[32mN           \u001b[0m │ \u001b[32mO           \u001b[0m │   \u001b[1;36m743124873.00\u001b[0m │ \u001b[1;36m1114302286901.88\u001b[0m │ \u001b[1;36m1058580922144.9637\u001b[0m │ \u001b[1;36m1100937000170.591797\u001b[0m │          \u001b[1;36m25.50\u001b[0m │       \u001b[1;36m38233.90\u001b[0m │           \u001b[1;36m0.05\u001b[0m │    \u001b[1;36m29144351\u001b[0m │\n",
       "│ \u001b[32mR           \u001b[0m │ \u001b[32mF           \u001b[0m │   \u001b[1;36m377732830.00\u001b[0m │  \u001b[1;36m566431054976.00\u001b[0m │  \u001b[1;36m538110922664.7677\u001b[0m │  \u001b[1;36m559634780885.086304\u001b[0m │          \u001b[1;36m25.51\u001b[0m │       \u001b[1;36m38251.22\u001b[0m │           \u001b[1;36m0.05\u001b[0m │    \u001b[1;36m14808183\u001b[0m │\n",
       "└──────────────┴──────────────┴────────────────┴──────────────────┴────────────────────┴──────────────────────┴────────────────┴────────────────┴────────────────┴─────────────┘"
      ]
     },
     "execution_count": 5,
     "metadata": {},
     "output_type": "execute_result"
    }
   ],
   "source": [
    "tpc_h01(con_pg)"
   ]
  },
  {
   "cell_type": "code",
   "execution_count": 18,
   "id": "d58985bb",
   "metadata": {},
   "outputs": [
    {
     "data": {
      "text/html": [
       "<pre style=\"white-space:pre;overflow-x:auto;line-height:normal;font-family:Menlo,'DejaVu Sans Mono',consolas,'Courier New',monospace\">┏━━━━━━━━━━━┳━━━━━━━━━━━━━━━━━━━━┳━━━━━━━━━━━━━━━━┳━━━━━━━━━━━━━━━━━┳━━━━━━━━━━━━━━━━━━━━━━━━━━━┳━━━━━━━━━━━━━━━━━━━━━━━━━━━━━━━━━━━━━┳━━━━━━━━━━━━━━━━━━━━━━━━━━━━━━━━━━━━━━━━━━━━━━━━━━━━━━━━━━━━━━━━━━━━━━━━━━━━━━━━━━┳━━━━━━━━━━━━━━━━┓\n",
       "┃<span style=\"font-weight: bold\"> c_custkey </span>┃<span style=\"font-weight: bold\"> c_name             </span>┃<span style=\"font-weight: bold\"> c_acctbal      </span>┃<span style=\"font-weight: bold\"> c_phone         </span>┃<span style=\"font-weight: bold\"> n_name                    </span>┃<span style=\"font-weight: bold\"> c_address                           </span>┃<span style=\"font-weight: bold\"> c_comment                                                                        </span>┃<span style=\"font-weight: bold\"> revenue        </span>┃\n",
       "┡━━━━━━━━━━━╇━━━━━━━━━━━━━━━━━━━━╇━━━━━━━━━━━━━━━━╇━━━━━━━━━━━━━━━━━╇━━━━━━━━━━━━━━━━━━━━━━━━━━━╇━━━━━━━━━━━━━━━━━━━━━━━━━━━━━━━━━━━━━╇━━━━━━━━━━━━━━━━━━━━━━━━━━━━━━━━━━━━━━━━━━━━━━━━━━━━━━━━━━━━━━━━━━━━━━━━━━━━━━━━━━╇━━━━━━━━━━━━━━━━┩\n",
       "│ <span style=\"color: #7f7f7f; text-decoration-color: #7f7f7f\">!int32</span>    │ <span style=\"color: #7f7f7f; text-decoration-color: #7f7f7f\">string</span>             │ <span style=\"color: #7f7f7f; text-decoration-color: #7f7f7f\">decimal(15, 2)</span> │ <span style=\"color: #7f7f7f; text-decoration-color: #7f7f7f\">string</span>          │ <span style=\"color: #7f7f7f; text-decoration-color: #7f7f7f\">string</span>                    │ <span style=\"color: #7f7f7f; text-decoration-color: #7f7f7f\">string</span>                              │ <span style=\"color: #7f7f7f; text-decoration-color: #7f7f7f\">string</span>                                                                           │ <span style=\"color: #7f7f7f; text-decoration-color: #7f7f7f\">decimal(38, 4)</span> │\n",
       "├───────────┼────────────────────┼────────────────┼─────────────────┼───────────────────────────┼─────────────────────────────────────┼──────────────────────────────────────────────────────────────────────────────────┼────────────────┤\n",
       "│   <span style=\"color: #008080; text-decoration-color: #008080; font-weight: bold\">1237537</span> │ <span style=\"color: #008000; text-decoration-color: #008000\">Customer#001237537</span> │        <span style=\"color: #008080; text-decoration-color: #008080; font-weight: bold\">7840.17</span> │ <span style=\"color: #008000; text-decoration-color: #008000\">32-367-120-4327</span> │ <span style=\"color: #008000; text-decoration-color: #008000\">RUSSIA                   </span> │ <span style=\"color: #008000; text-decoration-color: #008000\">FNG6WgB1mopyyY,ajQTU qUPW5o        </span> │ <span style=\"color: #008000; text-decoration-color: #008000\">nag carefully about the regular packages. carefully reg                         </span> │    <span style=\"color: #008080; text-decoration-color: #008080; font-weight: bold\">884989.6657</span> │\n",
       "│   <span style=\"color: #008080; text-decoration-color: #008080; font-weight: bold\">1116802</span> │ <span style=\"color: #008000; text-decoration-color: #008000\">Customer#001116802</span> │         <span style=\"color: #008080; text-decoration-color: #008080; font-weight: bold\">772.17</span> │ <span style=\"color: #008000; text-decoration-color: #008000\">23-199-655-3770</span> │ <span style=\"color: #008000; text-decoration-color: #008000\">JORDAN                   </span> │ <span style=\"color: #008000; text-decoration-color: #008000\">JpGQT3IHoogqB3ZMrSrzhBrVFObr       </span> │ <span style=\"color: #008000; text-decoration-color: #008000\">ests. quickly ironic deposits along the special requests a                      </span> │    <span style=\"color: #008080; text-decoration-color: #008080; font-weight: bold\">830214.1117</span> │\n",
       "│    <span style=\"color: #008080; text-decoration-color: #008080; font-weight: bold\">508954</span> │ <span style=\"color: #008000; text-decoration-color: #008000\">Customer#000508954</span> │        <span style=\"color: #008080; text-decoration-color: #008080; font-weight: bold\">3072.07</span> │ <span style=\"color: #008000; text-decoration-color: #008000\">15-880-510-9487</span> │ <span style=\"color: #008000; text-decoration-color: #008000\">ETHIOPIA                 </span> │ <span style=\"color: #008000; text-decoration-color: #008000\">zgafElAXecB3I7Ee1a9B               </span> │ <span style=\"color: #008000; text-decoration-color: #008000\">ickly regular deposits. carefully regular instructions engage deposits. foxes a…</span> │    <span style=\"color: #008080; text-decoration-color: #008080; font-weight: bold\">826167.5138</span> │\n",
       "│   <span style=\"color: #008080; text-decoration-color: #008080; font-weight: bold\">1487503</span> │ <span style=\"color: #008000; text-decoration-color: #008000\">Customer#001487503</span> │        <span style=\"color: #008080; text-decoration-color: #008080; font-weight: bold\">5398.11</span> │ <span style=\"color: #008000; text-decoration-color: #008000\">20-271-234-4401</span> │ <span style=\"color: #008000; text-decoration-color: #008000\">IRAN                     </span> │ <span style=\"color: #008000; text-decoration-color: #008000\">orychjo, O6c                       </span> │ <span style=\"color: #008000; text-decoration-color: #008000\">ccounts sleep carefully. furiously pending packages boost slyly after the quick…</span> │    <span style=\"color: #008080; text-decoration-color: #008080; font-weight: bold\">825996.5903</span> │\n",
       "│   <span style=\"color: #008080; text-decoration-color: #008080; font-weight: bold\">1461247</span> │ <span style=\"color: #008000; text-decoration-color: #008000\">Customer#001461247</span> │        <span style=\"color: #008080; text-decoration-color: #008080; font-weight: bold\">3205.93</span> │ <span style=\"color: #008000; text-decoration-color: #008000\">30-137-949-5375</span> │ <span style=\"color: #008000; text-decoration-color: #008000\">SAUDI ARABIA             </span> │ <span style=\"color: #008000; text-decoration-color: #008000\">jQZKjwNqttmC0BohJoGA4U             </span> │ <span style=\"color: #008000; text-decoration-color: #008000\">atterns sleep blithely. fluffily pending accounts sleep furiously from the iron…</span> │    <span style=\"color: #008080; text-decoration-color: #008080; font-weight: bold\">775992.0820</span> │\n",
       "│   <span style=\"color: #008080; text-decoration-color: #008080; font-weight: bold\">1316338</span> │ <span style=\"color: #008000; text-decoration-color: #008000\">Customer#001316338</span> │        <span style=\"color: #008080; text-decoration-color: #008080; font-weight: bold\">8682.95</span> │ <span style=\"color: #008000; text-decoration-color: #008000\">18-793-610-3832</span> │ <span style=\"color: #008000; text-decoration-color: #008000\">INDIA                    </span> │ <span style=\"color: #008000; text-decoration-color: #008000\">bfz3FH  qaULsV7oiCn66z6ezkZBpcl    </span> │ <span style=\"color: #008000; text-decoration-color: #008000\">equests. regular, even excuses doze slyly against the blithely even accounts. s…</span> │    <span style=\"color: #008080; text-decoration-color: #008080; font-weight: bold\">765063.7003</span> │\n",
       "│    <span style=\"color: #008080; text-decoration-color: #008080; font-weight: bold\">817849</span> │ <span style=\"color: #008000; text-decoration-color: #008000\">Customer#000817849</span> │        <span style=\"color: #008080; text-decoration-color: #008080; font-weight: bold\">-380.30</span> │ <span style=\"color: #008000; text-decoration-color: #008000\">25-111-847-3201</span> │ <span style=\"color: #008000; text-decoration-color: #008000\">MOROCCO                  </span> │ <span style=\"color: #008000; text-decoration-color: #008000\">7gz7HbNoVNSbv23trx                 </span> │ <span style=\"color: #008000; text-decoration-color: #008000\">fully special accounts wake slyly among the sheaves. permanently brave requests…</span> │    <span style=\"color: #008080; text-decoration-color: #008080; font-weight: bold\">737664.7232</span> │\n",
       "│   <span style=\"color: #008080; text-decoration-color: #008080; font-weight: bold\">1335394</span> │ <span style=\"color: #008000; text-decoration-color: #008000\">Customer#001335394</span> │        <span style=\"color: #008080; text-decoration-color: #008080; font-weight: bold\">3978.53</span> │ <span style=\"color: #008000; text-decoration-color: #008000\">31-760-271-2302</span> │ <span style=\"color: #008000; text-decoration-color: #008000\">VIETNAM                  </span> │ <span style=\"color: #008000; text-decoration-color: #008000\">mdNmISybrVNaIPSp                   </span> │ <span style=\"color: #008000; text-decoration-color: #008000\"> slyly even instructions. carefully silent ideas                                </span> │    <span style=\"color: #008080; text-decoration-color: #008080; font-weight: bold\">731259.8675</span> │\n",
       "│    <span style=\"color: #008080; text-decoration-color: #008080; font-weight: bold\">102358</span> │ <span style=\"color: #008000; text-decoration-color: #008000\">Customer#000102358</span> │        <span style=\"color: #008080; text-decoration-color: #008080; font-weight: bold\">3564.90</span> │ <span style=\"color: #008000; text-decoration-color: #008000\">12-941-212-8350</span> │ <span style=\"color: #008000; text-decoration-color: #008000\">BRAZIL                   </span> │ <span style=\"color: #008000; text-decoration-color: #008000\">YpDpv0sP14F5xMUQbkDV,XGcMJypFV6jH  </span> │ <span style=\"color: #008000; text-decoration-color: #008000\">y slyly regular multipliers. furiously regular deposits nag final excuses. slyl…</span> │    <span style=\"color: #008080; text-decoration-color: #008080; font-weight: bold\">715001.8825</span> │\n",
       "│   <span style=\"color: #008080; text-decoration-color: #008080; font-weight: bold\">1432624</span> │ <span style=\"color: #008000; text-decoration-color: #008000\">Customer#001432624</span> │         <span style=\"color: #008080; text-decoration-color: #008080; font-weight: bold\">205.08</span> │ <span style=\"color: #008000; text-decoration-color: #008000\">16-550-232-2774</span> │ <span style=\"color: #008000; text-decoration-color: #008000\">FRANCE                   </span> │ <span style=\"color: #008000; text-decoration-color: #008000\">NTCV7qvJ0PgcULFci,VdAB,0ZbSEZRdnnz,</span> │ <span style=\"color: #008000; text-decoration-color: #008000\">ctions use regular requests. quickly bold somas cajole at the c                 </span> │    <span style=\"color: #008080; text-decoration-color: #008080; font-weight: bold\">713512.6431</span> │\n",
       "│         <span style=\"color: #7f7f7f; text-decoration-color: #7f7f7f\">…</span> │ <span style=\"color: #7f7f7f; text-decoration-color: #7f7f7f\">…</span>                  │              <span style=\"color: #7f7f7f; text-decoration-color: #7f7f7f\">…</span> │ <span style=\"color: #7f7f7f; text-decoration-color: #7f7f7f\">…</span>               │ <span style=\"color: #7f7f7f; text-decoration-color: #7f7f7f\">…</span>                         │ <span style=\"color: #7f7f7f; text-decoration-color: #7f7f7f\">…</span>                                   │ <span style=\"color: #7f7f7f; text-decoration-color: #7f7f7f\">…</span>                                                                                │              <span style=\"color: #7f7f7f; text-decoration-color: #7f7f7f\">…</span> │\n",
       "└───────────┴────────────────────┴────────────────┴─────────────────┴───────────────────────────┴─────────────────────────────────────┴──────────────────────────────────────────────────────────────────────────────────┴────────────────┘\n",
       "</pre>\n"
      ],
      "text/plain": [
       "┏━━━━━━━━━━━┳━━━━━━━━━━━━━━━━━━━━┳━━━━━━━━━━━━━━━━┳━━━━━━━━━━━━━━━━━┳━━━━━━━━━━━━━━━━━━━━━━━━━━━┳━━━━━━━━━━━━━━━━━━━━━━━━━━━━━━━━━━━━━┳━━━━━━━━━━━━━━━━━━━━━━━━━━━━━━━━━━━━━━━━━━━━━━━━━━━━━━━━━━━━━━━━━━━━━━━━━━━━━━━━━━┳━━━━━━━━━━━━━━━━┓\n",
       "┃\u001b[1m \u001b[0m\u001b[1mc_custkey\u001b[0m\u001b[1m \u001b[0m┃\u001b[1m \u001b[0m\u001b[1mc_name\u001b[0m\u001b[1m            \u001b[0m\u001b[1m \u001b[0m┃\u001b[1m \u001b[0m\u001b[1mc_acctbal\u001b[0m\u001b[1m     \u001b[0m\u001b[1m \u001b[0m┃\u001b[1m \u001b[0m\u001b[1mc_phone\u001b[0m\u001b[1m        \u001b[0m\u001b[1m \u001b[0m┃\u001b[1m \u001b[0m\u001b[1mn_name\u001b[0m\u001b[1m                   \u001b[0m\u001b[1m \u001b[0m┃\u001b[1m \u001b[0m\u001b[1mc_address\u001b[0m\u001b[1m                          \u001b[0m\u001b[1m \u001b[0m┃\u001b[1m \u001b[0m\u001b[1mc_comment\u001b[0m\u001b[1m                                                                       \u001b[0m\u001b[1m \u001b[0m┃\u001b[1m \u001b[0m\u001b[1mrevenue\u001b[0m\u001b[1m       \u001b[0m\u001b[1m \u001b[0m┃\n",
       "┡━━━━━━━━━━━╇━━━━━━━━━━━━━━━━━━━━╇━━━━━━━━━━━━━━━━╇━━━━━━━━━━━━━━━━━╇━━━━━━━━━━━━━━━━━━━━━━━━━━━╇━━━━━━━━━━━━━━━━━━━━━━━━━━━━━━━━━━━━━╇━━━━━━━━━━━━━━━━━━━━━━━━━━━━━━━━━━━━━━━━━━━━━━━━━━━━━━━━━━━━━━━━━━━━━━━━━━━━━━━━━━╇━━━━━━━━━━━━━━━━┩\n",
       "│ \u001b[2m!int32\u001b[0m    │ \u001b[2mstring\u001b[0m             │ \u001b[2mdecimal(15, 2)\u001b[0m │ \u001b[2mstring\u001b[0m          │ \u001b[2mstring\u001b[0m                    │ \u001b[2mstring\u001b[0m                              │ \u001b[2mstring\u001b[0m                                                                           │ \u001b[2mdecimal(38, 4)\u001b[0m │\n",
       "├───────────┼────────────────────┼────────────────┼─────────────────┼───────────────────────────┼─────────────────────────────────────┼──────────────────────────────────────────────────────────────────────────────────┼────────────────┤\n",
       "│   \u001b[1;36m1237537\u001b[0m │ \u001b[32mCustomer#001237537\u001b[0m │        \u001b[1;36m7840.17\u001b[0m │ \u001b[32m32-367-120-4327\u001b[0m │ \u001b[32mRUSSIA                   \u001b[0m │ \u001b[32mFNG6WgB1mopyyY,ajQTU qUPW5o        \u001b[0m │ \u001b[32mnag carefully about the regular packages. carefully reg                         \u001b[0m │    \u001b[1;36m884989.6657\u001b[0m │\n",
       "│   \u001b[1;36m1116802\u001b[0m │ \u001b[32mCustomer#001116802\u001b[0m │         \u001b[1;36m772.17\u001b[0m │ \u001b[32m23-199-655-3770\u001b[0m │ \u001b[32mJORDAN                   \u001b[0m │ \u001b[32mJpGQT3IHoogqB3ZMrSrzhBrVFObr       \u001b[0m │ \u001b[32mests. quickly ironic deposits along the special requests a                      \u001b[0m │    \u001b[1;36m830214.1117\u001b[0m │\n",
       "│    \u001b[1;36m508954\u001b[0m │ \u001b[32mCustomer#000508954\u001b[0m │        \u001b[1;36m3072.07\u001b[0m │ \u001b[32m15-880-510-9487\u001b[0m │ \u001b[32mETHIOPIA                 \u001b[0m │ \u001b[32mzgafElAXecB3I7Ee1a9B               \u001b[0m │ \u001b[32mickly regular deposits. carefully regular instructions engage deposits. foxes a…\u001b[0m │    \u001b[1;36m826167.5138\u001b[0m │\n",
       "│   \u001b[1;36m1487503\u001b[0m │ \u001b[32mCustomer#001487503\u001b[0m │        \u001b[1;36m5398.11\u001b[0m │ \u001b[32m20-271-234-4401\u001b[0m │ \u001b[32mIRAN                     \u001b[0m │ \u001b[32morychjo, O6c                       \u001b[0m │ \u001b[32mccounts sleep carefully. furiously pending packages boost slyly after the quick…\u001b[0m │    \u001b[1;36m825996.5903\u001b[0m │\n",
       "│   \u001b[1;36m1461247\u001b[0m │ \u001b[32mCustomer#001461247\u001b[0m │        \u001b[1;36m3205.93\u001b[0m │ \u001b[32m30-137-949-5375\u001b[0m │ \u001b[32mSAUDI ARABIA             \u001b[0m │ \u001b[32mjQZKjwNqttmC0BohJoGA4U             \u001b[0m │ \u001b[32matterns sleep blithely. fluffily pending accounts sleep furiously from the iron…\u001b[0m │    \u001b[1;36m775992.0820\u001b[0m │\n",
       "│   \u001b[1;36m1316338\u001b[0m │ \u001b[32mCustomer#001316338\u001b[0m │        \u001b[1;36m8682.95\u001b[0m │ \u001b[32m18-793-610-3832\u001b[0m │ \u001b[32mINDIA                    \u001b[0m │ \u001b[32mbfz3FH  qaULsV7oiCn66z6ezkZBpcl    \u001b[0m │ \u001b[32mequests. regular, even excuses doze slyly against the blithely even accounts. s…\u001b[0m │    \u001b[1;36m765063.7003\u001b[0m │\n",
       "│    \u001b[1;36m817849\u001b[0m │ \u001b[32mCustomer#000817849\u001b[0m │        \u001b[1;36m-380.30\u001b[0m │ \u001b[32m25-111-847-3201\u001b[0m │ \u001b[32mMOROCCO                  \u001b[0m │ \u001b[32m7gz7HbNoVNSbv23trx                 \u001b[0m │ \u001b[32mfully special accounts wake slyly among the sheaves. permanently brave requests…\u001b[0m │    \u001b[1;36m737664.7232\u001b[0m │\n",
       "│   \u001b[1;36m1335394\u001b[0m │ \u001b[32mCustomer#001335394\u001b[0m │        \u001b[1;36m3978.53\u001b[0m │ \u001b[32m31-760-271-2302\u001b[0m │ \u001b[32mVIETNAM                  \u001b[0m │ \u001b[32mmdNmISybrVNaIPSp                   \u001b[0m │ \u001b[32m slyly even instructions. carefully silent ideas                                \u001b[0m │    \u001b[1;36m731259.8675\u001b[0m │\n",
       "│    \u001b[1;36m102358\u001b[0m │ \u001b[32mCustomer#000102358\u001b[0m │        \u001b[1;36m3564.90\u001b[0m │ \u001b[32m12-941-212-8350\u001b[0m │ \u001b[32mBRAZIL                   \u001b[0m │ \u001b[32mYpDpv0sP14F5xMUQbkDV,XGcMJypFV6jH  \u001b[0m │ \u001b[32my slyly regular multipliers. furiously regular deposits nag final excuses. slyl…\u001b[0m │    \u001b[1;36m715001.8825\u001b[0m │\n",
       "│   \u001b[1;36m1432624\u001b[0m │ \u001b[32mCustomer#001432624\u001b[0m │         \u001b[1;36m205.08\u001b[0m │ \u001b[32m16-550-232-2774\u001b[0m │ \u001b[32mFRANCE                   \u001b[0m │ \u001b[32mNTCV7qvJ0PgcULFci,VdAB,0ZbSEZRdnnz,\u001b[0m │ \u001b[32mctions use regular requests. quickly bold somas cajole at the c                 \u001b[0m │    \u001b[1;36m713512.6431\u001b[0m │\n",
       "│         \u001b[2m…\u001b[0m │ \u001b[2m…\u001b[0m                  │              \u001b[2m…\u001b[0m │ \u001b[2m…\u001b[0m               │ \u001b[2m…\u001b[0m                         │ \u001b[2m…\u001b[0m                                   │ \u001b[2m…\u001b[0m                                                                                │              \u001b[2m…\u001b[0m │\n",
       "└───────────┴────────────────────┴────────────────┴─────────────────┴───────────────────────────┴─────────────────────────────────────┴──────────────────────────────────────────────────────────────────────────────────┴────────────────┘"
      ]
     },
     "execution_count": 18,
     "metadata": {},
     "output_type": "execute_result"
    }
   ],
   "source": [
    "tpc_h10(con_pg)"
   ]
  },
  {
   "cell_type": "markdown",
   "id": "54234b98",
   "metadata": {},
   "source": [
    "### TPC-H queries benchmarking on Postgres"
   ]
  },
  {
   "cell_type": "code",
   "execution_count": 6,
   "id": "62e15ac6",
   "metadata": {},
   "outputs": [
    {
     "name": "stdout",
     "output_type": "stream",
     "text": [
      "27 s ± 9.39 s per loop (mean ± std. dev. of 10 runs, 1 loop each)\n"
     ]
    }
   ],
   "source": [
    "%%timeit -r10\n",
    "tpc_h01(con_pg).execute()"
   ]
  },
  {
   "cell_type": "code",
   "execution_count": 25,
   "id": "fa525dcf",
   "metadata": {
    "scrolled": true
   },
   "outputs": [
    {
     "name": "stdout",
     "output_type": "stream",
     "text": [
      "5.69 s ± 162 ms per loop (mean ± std. dev. of 10 runs, 1 loop each)\n"
     ]
    }
   ],
   "source": [
    "%%timeit -r10\n",
    "tpc_h10(con_pg).execute()"
   ]
  },
  {
   "cell_type": "markdown",
   "id": "9c89dfc5",
   "metadata": {},
   "source": [
    "## DuckDB"
   ]
  },
  {
   "cell_type": "code",
   "execution_count": 20,
   "id": "7ae592e3",
   "metadata": {},
   "outputs": [
    {
     "data": {
      "text/plain": [
       "['nation', 'customer', 'orders', 'lineitem']"
      ]
     },
     "execution_count": 20,
     "metadata": {},
     "output_type": "execute_result"
    }
   ],
   "source": [
    "con_ibis = ibis.duckdb.connect()\n",
    "con_ibis.register(\"/home/francois/datasets/tpc-h-10GB/parquet/lineitem.parquet\", table_name=\"lineitem\")\n",
    "con_ibis.register(\"/home/francois/datasets/tpc-h-10GB/parquet/orders.parquet\", table_name=\"orders\")\n",
    "con_ibis.register(\"/home/francois/datasets/tpc-h-10GB/parquet/customer.parquet\", table_name=\"customer\")\n",
    "con_ibis.register(\"/home/francois/datasets/tpc-h-10GB/parquet/nation.parquet\", table_name=\"nation\")\n",
    "con_ibis.list_tables()"
   ]
  },
  {
   "cell_type": "markdown",
   "id": "9e7c1a80",
   "metadata": {},
   "source": [
    "### TPC-H queries benchmarking on DuckDB"
   ]
  },
  {
   "cell_type": "code",
   "execution_count": 23,
   "id": "86d9ee06",
   "metadata": {},
   "outputs": [
    {
     "name": "stdout",
     "output_type": "stream",
     "text": [
      "3.48 s ± 69.7 ms per loop (mean ± std. dev. of 10 runs, 1 loop each)\n"
     ]
    }
   ],
   "source": [
    "%%timeit -r 10\n",
    "tpc_h01(con_ibis).execute()"
   ]
  },
  {
   "cell_type": "code",
   "execution_count": 26,
   "id": "627481d7",
   "metadata": {},
   "outputs": [
    {
     "name": "stdout",
     "output_type": "stream",
     "text": [
      "3.99 s ± 250 ms per loop (mean ± std. dev. of 10 runs, 1 loop each)\n"
     ]
    }
   ],
   "source": [
    "%%timeit -r 10\n",
    "tpc_h10(con_ibis).execute()"
   ]
  },
  {
   "cell_type": "markdown",
   "id": "9ad43251",
   "metadata": {},
   "source": [
    "## Spark"
   ]
  },
  {
   "cell_type": "code",
   "execution_count": 1,
   "id": "e06523a9",
   "metadata": {},
   "outputs": [],
   "source": [
    "from pyspark.sql import SparkSession\n",
    "spark = SparkSession.builder.config(\"spark.driver.memory\", \"25g\").appName(\"tpc-h-10GB\").getOrCreate()"
   ]
  },
  {
   "cell_type": "code",
   "execution_count": 5,
   "id": "1b026687",
   "metadata": {},
   "outputs": [],
   "source": [
    "con_spark = ibis.pyspark.connect(spark)"
   ]
  },
  {
   "cell_type": "code",
   "execution_count": 33,
   "id": "25cf3743",
   "metadata": {},
   "outputs": [
    {
     "data": {
      "text/html": [
       "<pre style=\"white-space:pre;overflow-x:auto;line-height:normal;font-family:Menlo,'DejaVu Sans Mono',consolas,'Courier New',monospace\">┏━━━━━━━━━━━━━┳━━━━━━━━━━━┳━━━━━━━━━━━━━┳━━━━━━━━━━━━━━━━━━━━━━━━━━━━━━━━━━━━━━━━━━━━━━━━━━━━━━━━━━━━━━━━━━━━━━━━━━━━━━━━━━┓\n",
       "┃<span style=\"font-weight: bold\"> n_nationkey </span>┃<span style=\"font-weight: bold\"> n_name    </span>┃<span style=\"font-weight: bold\"> n_regionkey </span>┃<span style=\"font-weight: bold\"> n_comment                                                                        </span>┃\n",
       "┡━━━━━━━━━━━━━╇━━━━━━━━━━━╇━━━━━━━━━━━━━╇━━━━━━━━━━━━━━━━━━━━━━━━━━━━━━━━━━━━━━━━━━━━━━━━━━━━━━━━━━━━━━━━━━━━━━━━━━━━━━━━━━┩\n",
       "│ <span style=\"color: #7f7f7f; text-decoration-color: #7f7f7f\">int64</span>       │ <span style=\"color: #7f7f7f; text-decoration-color: #7f7f7f\">string</span>    │ <span style=\"color: #7f7f7f; text-decoration-color: #7f7f7f\">int64</span>       │ <span style=\"color: #7f7f7f; text-decoration-color: #7f7f7f\">string</span>                                                                           │\n",
       "├─────────────┼───────────┼─────────────┼──────────────────────────────────────────────────────────────────────────────────┤\n",
       "│           <span style=\"color: #008080; text-decoration-color: #008080; font-weight: bold\">0</span> │ <span style=\"color: #008000; text-decoration-color: #008000\">ALGERIA  </span> │           <span style=\"color: #008080; text-decoration-color: #008080; font-weight: bold\">0</span> │ <span style=\"color: #008000; text-decoration-color: #008000\"> haggle. carefully final deposits detect slyly agai                             </span> │\n",
       "│           <span style=\"color: #008080; text-decoration-color: #008080; font-weight: bold\">1</span> │ <span style=\"color: #008000; text-decoration-color: #008000\">ARGENTINA</span> │           <span style=\"color: #008080; text-decoration-color: #008080; font-weight: bold\">1</span> │ <span style=\"color: #008000; text-decoration-color: #008000\">al foxes promise slyly according to the regular accounts. bold requests alon    </span> │\n",
       "│           <span style=\"color: #008080; text-decoration-color: #008080; font-weight: bold\">2</span> │ <span style=\"color: #008000; text-decoration-color: #008000\">BRAZIL   </span> │           <span style=\"color: #008080; text-decoration-color: #008080; font-weight: bold\">1</span> │ <span style=\"color: #008000; text-decoration-color: #008000\">y alongside of the pending deposits. carefully special packages are about the i…</span> │\n",
       "│           <span style=\"color: #008080; text-decoration-color: #008080; font-weight: bold\">3</span> │ <span style=\"color: #008000; text-decoration-color: #008000\">CANADA   </span> │           <span style=\"color: #008080; text-decoration-color: #008080; font-weight: bold\">1</span> │ <span style=\"color: #008000; text-decoration-color: #008000\">eas hang ironic, silent packages. slyly regular packages are furiously over the…</span> │\n",
       "│           <span style=\"color: #008080; text-decoration-color: #008080; font-weight: bold\">4</span> │ <span style=\"color: #008000; text-decoration-color: #008000\">EGYPT    </span> │           <span style=\"color: #008080; text-decoration-color: #008080; font-weight: bold\">4</span> │ <span style=\"color: #008000; text-decoration-color: #008000\">y above the carefully unusual theodolites. final dugouts are quickly across the…</span> │\n",
       "│           <span style=\"color: #008080; text-decoration-color: #008080; font-weight: bold\">5</span> │ <span style=\"color: #008000; text-decoration-color: #008000\">ETHIOPIA </span> │           <span style=\"color: #008080; text-decoration-color: #008080; font-weight: bold\">0</span> │ <span style=\"color: #008000; text-decoration-color: #008000\">ven packages wake quickly. regu                                                 </span> │\n",
       "│           <span style=\"color: #008080; text-decoration-color: #008080; font-weight: bold\">6</span> │ <span style=\"color: #008000; text-decoration-color: #008000\">FRANCE   </span> │           <span style=\"color: #008080; text-decoration-color: #008080; font-weight: bold\">3</span> │ <span style=\"color: #008000; text-decoration-color: #008000\">refully final requests. regular, ironi                                          </span> │\n",
       "│           <span style=\"color: #008080; text-decoration-color: #008080; font-weight: bold\">7</span> │ <span style=\"color: #008000; text-decoration-color: #008000\">GERMANY  </span> │           <span style=\"color: #008080; text-decoration-color: #008080; font-weight: bold\">3</span> │ <span style=\"color: #008000; text-decoration-color: #008000\">l platelets. regular accounts x-ray: unusual, regular acco                      </span> │\n",
       "│           <span style=\"color: #008080; text-decoration-color: #008080; font-weight: bold\">8</span> │ <span style=\"color: #008000; text-decoration-color: #008000\">INDIA    </span> │           <span style=\"color: #008080; text-decoration-color: #008080; font-weight: bold\">2</span> │ <span style=\"color: #008000; text-decoration-color: #008000\">ss excuses cajole slyly across the packages. deposits print aroun               </span> │\n",
       "│           <span style=\"color: #008080; text-decoration-color: #008080; font-weight: bold\">9</span> │ <span style=\"color: #008000; text-decoration-color: #008000\">INDONESIA</span> │           <span style=\"color: #008080; text-decoration-color: #008080; font-weight: bold\">2</span> │ <span style=\"color: #008000; text-decoration-color: #008000\"> slyly express asymptotes. regular deposits haggle slyly. carefully ironic hock…</span> │\n",
       "│           <span style=\"color: #7f7f7f; text-decoration-color: #7f7f7f\">…</span> │ <span style=\"color: #7f7f7f; text-decoration-color: #7f7f7f\">…</span>         │           <span style=\"color: #7f7f7f; text-decoration-color: #7f7f7f\">…</span> │ <span style=\"color: #7f7f7f; text-decoration-color: #7f7f7f\">…</span>                                                                                │\n",
       "└─────────────┴───────────┴─────────────┴──────────────────────────────────────────────────────────────────────────────────┘\n",
       "</pre>\n"
      ],
      "text/plain": [
       "┏━━━━━━━━━━━━━┳━━━━━━━━━━━┳━━━━━━━━━━━━━┳━━━━━━━━━━━━━━━━━━━━━━━━━━━━━━━━━━━━━━━━━━━━━━━━━━━━━━━━━━━━━━━━━━━━━━━━━━━━━━━━━━┓\n",
       "┃\u001b[1m \u001b[0m\u001b[1mn_nationkey\u001b[0m\u001b[1m \u001b[0m┃\u001b[1m \u001b[0m\u001b[1mn_name\u001b[0m\u001b[1m   \u001b[0m\u001b[1m \u001b[0m┃\u001b[1m \u001b[0m\u001b[1mn_regionkey\u001b[0m\u001b[1m \u001b[0m┃\u001b[1m \u001b[0m\u001b[1mn_comment\u001b[0m\u001b[1m                                                                       \u001b[0m\u001b[1m \u001b[0m┃\n",
       "┡━━━━━━━━━━━━━╇━━━━━━━━━━━╇━━━━━━━━━━━━━╇━━━━━━━━━━━━━━━━━━━━━━━━━━━━━━━━━━━━━━━━━━━━━━━━━━━━━━━━━━━━━━━━━━━━━━━━━━━━━━━━━━┩\n",
       "│ \u001b[2mint64\u001b[0m       │ \u001b[2mstring\u001b[0m    │ \u001b[2mint64\u001b[0m       │ \u001b[2mstring\u001b[0m                                                                           │\n",
       "├─────────────┼───────────┼─────────────┼──────────────────────────────────────────────────────────────────────────────────┤\n",
       "│           \u001b[1;36m0\u001b[0m │ \u001b[32mALGERIA  \u001b[0m │           \u001b[1;36m0\u001b[0m │ \u001b[32m haggle. carefully final deposits detect slyly agai                             \u001b[0m │\n",
       "│           \u001b[1;36m1\u001b[0m │ \u001b[32mARGENTINA\u001b[0m │           \u001b[1;36m1\u001b[0m │ \u001b[32mal foxes promise slyly according to the regular accounts. bold requests alon    \u001b[0m │\n",
       "│           \u001b[1;36m2\u001b[0m │ \u001b[32mBRAZIL   \u001b[0m │           \u001b[1;36m1\u001b[0m │ \u001b[32my alongside of the pending deposits. carefully special packages are about the i…\u001b[0m │\n",
       "│           \u001b[1;36m3\u001b[0m │ \u001b[32mCANADA   \u001b[0m │           \u001b[1;36m1\u001b[0m │ \u001b[32meas hang ironic, silent packages. slyly regular packages are furiously over the…\u001b[0m │\n",
       "│           \u001b[1;36m4\u001b[0m │ \u001b[32mEGYPT    \u001b[0m │           \u001b[1;36m4\u001b[0m │ \u001b[32my above the carefully unusual theodolites. final dugouts are quickly across the…\u001b[0m │\n",
       "│           \u001b[1;36m5\u001b[0m │ \u001b[32mETHIOPIA \u001b[0m │           \u001b[1;36m0\u001b[0m │ \u001b[32mven packages wake quickly. regu                                                 \u001b[0m │\n",
       "│           \u001b[1;36m6\u001b[0m │ \u001b[32mFRANCE   \u001b[0m │           \u001b[1;36m3\u001b[0m │ \u001b[32mrefully final requests. regular, ironi                                          \u001b[0m │\n",
       "│           \u001b[1;36m7\u001b[0m │ \u001b[32mGERMANY  \u001b[0m │           \u001b[1;36m3\u001b[0m │ \u001b[32ml platelets. regular accounts x-ray: unusual, regular acco                      \u001b[0m │\n",
       "│           \u001b[1;36m8\u001b[0m │ \u001b[32mINDIA    \u001b[0m │           \u001b[1;36m2\u001b[0m │ \u001b[32mss excuses cajole slyly across the packages. deposits print aroun               \u001b[0m │\n",
       "│           \u001b[1;36m9\u001b[0m │ \u001b[32mINDONESIA\u001b[0m │           \u001b[1;36m2\u001b[0m │ \u001b[32m slyly express asymptotes. regular deposits haggle slyly. carefully ironic hock…\u001b[0m │\n",
       "│           \u001b[2m…\u001b[0m │ \u001b[2m…\u001b[0m         │           \u001b[2m…\u001b[0m │ \u001b[2m…\u001b[0m                                                                                │\n",
       "└─────────────┴───────────┴─────────────┴──────────────────────────────────────────────────────────────────────────────────┘"
      ]
     },
     "execution_count": 33,
     "metadata": {},
     "output_type": "execute_result"
    }
   ],
   "source": [
    "con_spark.register(\"/home/francois/datasets/tpc-h-10GB/parquet/lineitem.parquet\", table_name=\"lineitem\")\n",
    "con_spark.register(\"/home/francois/datasets/tpc-h-10GB/parquet/orders.parquet\", table_name=\"orders\")\n",
    "con_spark.register(\"/home/francois/datasets/tpc-h-10GB/parquet/customer.parquet\", table_name=\"customer\")\n",
    "con_spark.register(\"/home/francois/datasets/tpc-h-10GB/parquet/nation.parquet\", table_name=\"nation\")"
   ]
  },
  {
   "cell_type": "markdown",
   "id": "c20e8b11",
   "metadata": {},
   "source": [
    "### TPC-H queries benchmarking on PySpark"
   ]
  },
  {
   "cell_type": "code",
   "execution_count": 21,
   "id": "374be37c",
   "metadata": {},
   "outputs": [
    {
     "name": "stderr",
     "output_type": "stream",
     "text": [
      "[Stage 228:===================================================>   (15 + 1) / 16]\r"
     ]
    },
    {
     "name": "stdout",
     "output_type": "stream",
     "text": [
      "7.46 s ± 125 ms per loop (mean ± std. dev. of 10 runs, 1 loop each)\n"
     ]
    },
    {
     "name": "stderr",
     "output_type": "stream",
     "text": [
      "\r\n",
      "                                                                                \r"
     ]
    }
   ],
   "source": [
    "%%timeit -r 10\n",
    "tpc_h01(con_spark).execute()"
   ]
  },
  {
   "cell_type": "code",
   "execution_count": 35,
   "id": "ff4f7a65",
   "metadata": {},
   "outputs": [
    {
     "name": "stderr",
     "output_type": "stream",
     "text": [
      "[Stage 1099:==================================================>   (16 + 1) / 17]\r"
     ]
    },
    {
     "name": "stdout",
     "output_type": "stream",
     "text": [
      "7.87 s ± 688 ms per loop (mean ± std. dev. of 10 runs, 1 loop each)\n"
     ]
    },
    {
     "name": "stderr",
     "output_type": "stream",
     "text": [
      "\r\n",
      "                                                                                \r"
     ]
    }
   ],
   "source": [
    "%%timeit -r 10\n",
    "tpc_h10(con_spark).execute()"
   ]
  }
 ],
 "metadata": {
  "kernelspec": {
   "display_name": "Python 3 (ipykernel)",
   "language": "python",
   "name": "python3"
  },
  "language_info": {
   "codemirror_mode": {
    "name": "ipython",
    "version": 3
   },
   "file_extension": ".py",
   "mimetype": "text/x-python",
   "name": "python",
   "nbconvert_exporter": "python",
   "pygments_lexer": "ipython3",
   "version": "3.11.2"
  }
 },
 "nbformat": 4,
 "nbformat_minor": 5
}
