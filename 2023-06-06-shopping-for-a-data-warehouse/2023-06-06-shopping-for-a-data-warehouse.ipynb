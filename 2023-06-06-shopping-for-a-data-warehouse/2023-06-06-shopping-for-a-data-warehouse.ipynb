{
 "cells": [
  {
   "attachments": {},
   "cell_type": "markdown",
   "id": "13be95d6",
   "metadata": {},
   "source": [
    "## Imports"
   ]
  },
  {
   "cell_type": "code",
   "execution_count": null,
   "id": "33199a29",
   "metadata": {},
   "outputs": [],
   "source": [
    "import ibis\n",
    "from ibis import _\n",
    "ibis.options.interactive = True\n",
    "import ibis.selectors as s\n",
    "import os"
   ]
  },
  {
   "attachments": {},
   "cell_type": "markdown",
   "id": "565c31d4",
   "metadata": {},
   "source": [
    "## Functions to run the TPC-H queries"
   ]
  },
  {
   "cell_type": "code",
   "execution_count": null,
   "id": "c6c2b60e",
   "metadata": {},
   "outputs": [],
   "source": [
    "def tpc_h01(con):\n",
    "    \"\"\"    \n",
    "    This query reports the amount of business that was billed, shipped, and returned.\n",
    "    \n",
    "    The Pricing Summary Report Query provides a summary pricing report for all lineitems\n",
    "    shipped as of a given date. The date is within 60 - 120 days of the greatest ship date\n",
    "    contained in the database. The query lists totals for extended price, discounted extended\n",
    "    price, discounted extended price plus tax, average quantity, average extended\n",
    "    price, and average discount. These aggregates are grouped by RETURNFLAG and LINESTATUS,\n",
    "    and listed in ascending order of RETURNFLAG and LINESTATUS. A count of the number of\n",
    "    lineitems in each group is included.\n",
    "    \"\"\"\n",
    "    lineitem = con.table(\"lineitem\")\n",
    "    q01 = (\n",
    "        lineitem\n",
    "        .filter(_.l_shipdate <= (ibis.date('1998-12-01') - ibis.interval(days=90)))\n",
    "        .aggregate(\n",
    "            by=[_.l_returnflag, _.l_linestatus],\n",
    "            sum_qty=_.l_quantity.sum(),\n",
    "            sum_base_price=_.l_extendedprice.sum(),\n",
    "            sum_disc_price=(_.l_extendedprice * (1 - _.l_discount)).sum(),\n",
    "            sum_charge=(_.l_extendedprice * (1 - _.l_discount) * (1 + _.l_tax)).sum(),\n",
    "            avg_qty=_.l_quantity.mean(),\n",
    "            avg_price=_.l_extendedprice.mean(),\n",
    "            avg_disc=_.l_discount.mean(),\n",
    "            count_order=_.count()\n",
    "        )\n",
    "        .order_by([_.l_returnflag, _.l_linestatus])\n",
    "    )\n",
    "    return q01\n",
    "\n",
    "\n",
    "def tpc_h10(con):\n",
    "    \"\"\"\n",
    "    The query identifies customers who might be having problems with the parts that are\n",
    "    shipped to them.\n",
    "    \n",
    "    The Returned Item Reporting Query finds the top 20 customers, in terms of their effect\n",
    "    on lost revenue for a given quarter, who have returned parts. The query considers only\n",
    "    parts that were ordered in the specified quarter. The query lists the customer's name,\n",
    "    address, nation, phone number, account balance, comment information and revenue lost.\n",
    "    The customers are listed in descending order of lost revenue. Revenue lost is defined\n",
    "    as sum(l_extendedprice*(1-l_discount)) for all qualifying lineitems.\n",
    "    \"\"\"\n",
    "    lineitem = con.table('lineitem')\n",
    "    orders = con.table('orders')\n",
    "    customer = con.table(\"customer\")\n",
    "    nation = con.table(\"nation\")\n",
    "    \n",
    "    q = (\n",
    "        customer\n",
    "            .join(orders, orders.o_custkey == customer.c_custkey)\n",
    "            .join(lineitem, lineitem.l_orderkey == orders.o_orderkey)\n",
    "            .join(nation, customer.c_nationkey == nation.n_nationkey)\n",
    "    )\n",
    "\n",
    "    q = q.filter(\n",
    "        [\n",
    "            (q.o_orderdate >= ibis.date(\"1993-10-01\")) & (q.o_orderdate < (ibis.date(\"1993-10-01\") + ibis.interval(months=3))),\n",
    "            q.l_returnflag == \"R\",\n",
    "        ]\n",
    "    )\n",
    "\n",
    "    gq = q.group_by(\n",
    "        [\n",
    "            q.c_custkey,\n",
    "            q.c_name,\n",
    "            q.c_acctbal,\n",
    "            q.c_phone,\n",
    "            q.n_name,\n",
    "            q.c_address,\n",
    "            q.c_comment,\n",
    "        ]\n",
    "    )\n",
    "    q = gq.aggregate(revenue=(q.l_extendedprice * (1 - q.l_discount)).sum())\n",
    "\n",
    "    q = q.order_by(ibis.desc(q.revenue))\n",
    "    return q.limit(20)\n"
   ]
  },
  {
   "attachments": {},
   "cell_type": "markdown",
   "id": "45810964",
   "metadata": {},
   "source": [
    "## Postgres"
   ]
  },
  {
   "cell_type": "code",
   "execution_count": null,
   "id": "99ae8ebc",
   "metadata": {},
   "outputs": [],
   "source": [
    "pg_user = os.environ.get(\"PG_USER\")\n",
    "pg_pwd = os.environ.get(\"PG_PWD\")\n",
    "\n",
    "con_pg = ibis.postgres.connect(database='tpc-h-10gb', host='localhost', user=pg_user, password=pg_pwd)"
   ]
  },
  {
   "attachments": {},
   "cell_type": "markdown",
   "id": "625ccf04",
   "metadata": {},
   "source": [
    "### Example TPC-H query results"
   ]
  },
  {
   "cell_type": "code",
   "execution_count": null,
   "id": "d1fd1414",
   "metadata": {},
   "outputs": [],
   "source": [
    "tpc_h01(con_pg)"
   ]
  },
  {
   "cell_type": "code",
   "execution_count": null,
   "id": "d58985bb",
   "metadata": {},
   "outputs": [],
   "source": [
    "tpc_h10(con_pg)"
   ]
  },
  {
   "attachments": {},
   "cell_type": "markdown",
   "id": "54234b98",
   "metadata": {},
   "source": [
    "### TPC-H queries benchmarking on Postgres"
   ]
  },
  {
   "cell_type": "code",
   "execution_count": null,
   "id": "62e15ac6",
   "metadata": {},
   "outputs": [],
   "source": [
    "%%timeit -r10\n",
    "tpc_h01(con_pg).execute()"
   ]
  },
  {
   "cell_type": "code",
   "execution_count": null,
   "id": "fa525dcf",
   "metadata": {
    "scrolled": true
   },
   "outputs": [],
   "source": [
    "%%timeit -r10\n",
    "tpc_h10(con_pg).execute()"
   ]
  },
  {
   "attachments": {},
   "cell_type": "markdown",
   "id": "9c89dfc5",
   "metadata": {},
   "source": [
    "## DuckDB"
   ]
  },
  {
   "cell_type": "code",
   "execution_count": null,
   "id": "7ae592e3",
   "metadata": {},
   "outputs": [],
   "source": [
    "con_duck = ibis.duckdb.connect()\n",
    "con_duck.register(\"/home/francois/datasets/tpc-h-10GB/parquet/lineitem.parquet\", table_name=\"lineitem\")\n",
    "con_duck.register(\"/home/francois/datasets/tpc-h-10GB/parquet/orders.parquet\", table_name=\"orders\")\n",
    "con_duck.register(\"/home/francois/datasets/tpc-h-10GB/parquet/customer.parquet\", table_name=\"customer\")\n",
    "con_duck.register(\"/home/francois/datasets/tpc-h-10GB/parquet/nation.parquet\", table_name=\"nation\")\n",
    "con_duck.list_tables()"
   ]
  },
  {
   "attachments": {},
   "cell_type": "markdown",
   "id": "9e7c1a80",
   "metadata": {},
   "source": [
    "### TPC-H queries benchmarking on DuckDB"
   ]
  },
  {
   "cell_type": "code",
   "execution_count": null,
   "id": "86d9ee06",
   "metadata": {},
   "outputs": [],
   "source": [
    "%%timeit -r 10\n",
    "tpc_h01(con_duck).execute()"
   ]
  },
  {
   "cell_type": "code",
   "execution_count": null,
   "id": "627481d7",
   "metadata": {},
   "outputs": [],
   "source": [
    "%%timeit -r 10\n",
    "tpc_h10(con_duck).execute()"
   ]
  },
  {
   "attachments": {},
   "cell_type": "markdown",
   "id": "9ad43251",
   "metadata": {},
   "source": [
    "## Spark"
   ]
  },
  {
   "cell_type": "code",
   "execution_count": null,
   "id": "e06523a9",
   "metadata": {},
   "outputs": [],
   "source": [
    "from pyspark.sql import SparkSession\n",
    "spark = SparkSession.builder.config(\"spark.driver.memory\", \"25g\").appName(\"tpc-h-10GB\").getOrCreate()"
   ]
  },
  {
   "cell_type": "code",
   "execution_count": null,
   "id": "1b026687",
   "metadata": {},
   "outputs": [],
   "source": [
    "con_spark = ibis.pyspark.connect(spark)"
   ]
  },
  {
   "cell_type": "code",
   "execution_count": null,
   "id": "25cf3743",
   "metadata": {},
   "outputs": [],
   "source": [
    "con_spark.register(\"/home/francois/datasets/tpc-h-10GB/parquet/lineitem.parquet\", table_name=\"lineitem\")\n",
    "con_spark.register(\"/home/francois/datasets/tpc-h-10GB/parquet/orders.parquet\", table_name=\"orders\")\n",
    "con_spark.register(\"/home/francois/datasets/tpc-h-10GB/parquet/customer.parquet\", table_name=\"customer\")\n",
    "con_spark.register(\"/home/francois/datasets/tpc-h-10GB/parquet/nation.parquet\", table_name=\"nation\")"
   ]
  },
  {
   "attachments": {},
   "cell_type": "markdown",
   "id": "c20e8b11",
   "metadata": {},
   "source": [
    "### TPC-H queries benchmarking on PySpark"
   ]
  },
  {
   "cell_type": "code",
   "execution_count": null,
   "id": "374be37c",
   "metadata": {},
   "outputs": [],
   "source": [
    "%%timeit -r 10\n",
    "tpc_h01(con_spark).execute()"
   ]
  },
  {
   "cell_type": "code",
   "execution_count": null,
   "id": "ff4f7a65",
   "metadata": {},
   "outputs": [],
   "source": [
    "%%timeit -r 10\n",
    "tpc_h10(con_spark).execute()"
   ]
  }
 ],
 "metadata": {
  "kernelspec": {
   "display_name": "Python 3 (ipykernel)",
   "language": "python",
   "name": "python3"
  },
  "language_info": {
   "codemirror_mode": {
    "name": "ipython",
    "version": 3
   },
   "file_extension": ".py",
   "mimetype": "text/x-python",
   "name": "python",
   "nbconvert_exporter": "python",
   "pygments_lexer": "ipython3",
   "version": "3.11.2"
  }
 },
 "nbformat": 4,
 "nbformat_minor": 5
}
